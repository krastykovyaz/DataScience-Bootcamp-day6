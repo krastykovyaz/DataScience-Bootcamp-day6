{
 "cells": [
  {
   "cell_type": "markdown",
   "id": "interracial-devon",
   "metadata": {},
   "source": [
    "## connect"
   ]
  },
  {
   "cell_type": "code",
   "execution_count": 1,
   "id": "dense-shannon",
   "metadata": {
    "scrolled": true
   },
   "outputs": [
    {
     "name": "stderr",
     "output_type": "stream",
     "text": [
      "/Users/a19028558/Desktop/transfer_accounts/akovyaz/learning_myself/env_school/lib/python3.8/site-packages/pandas/compat/__init__.py:97: UserWarning: Could not import the lzma module. Your installed Python is incomplete. Attempting to use lzma compression will result in a RuntimeError.\n",
      "  warnings.warn(msg)\n"
     ]
    }
   ],
   "source": [
    "import pandas as pd\n",
    "import sqlite3"
   ]
  },
  {
   "cell_type": "code",
   "execution_count": 5,
   "id": "characteristic-amplifier",
   "metadata": {},
   "outputs": [],
   "source": [
    "connect = sqlite3.connect('../data/checking-logs.sqlite')"
   ]
  },
  {
   "cell_type": "markdown",
   "id": "included-garden",
   "metadata": {},
   "source": [
    "## create table datamart"
   ]
  },
  {
   "cell_type": "code",
   "execution_count": 6,
   "id": "mobile-concrete",
   "metadata": {},
   "outputs": [],
   "source": [
    "pd.io.sql.read_sql(\"\"\"select checker.uid, labname, datetime(timestamp) as first_commit_ts, datetime(datetime) as first_view_ts from checker\n",
    "left JOIN (select * from pageviews GROUP BY uid\n",
    "HAVING MIN(datetime)\n",
    "ORDER BY datetime) pv on pv.uid = checker.uid\n",
    "where status='ready' and numTrials=1 and labname in ('laba04', 'laba04s', 'laba05', 'laba06', 'laba06s', 'project1') and checker.uid LIKE 'user_%';\"\"\", con=connect).to_sql('datamart', con=connect)"
   ]
  },
  {
   "cell_type": "markdown",
   "id": "upset-control",
   "metadata": {},
   "source": [
    "## Create pandas tables"
   ]
  },
  {
   "cell_type": "code",
   "execution_count": 7,
   "id": "hairy-australia",
   "metadata": {},
   "outputs": [],
   "source": [
    "test = pd.io.sql.read_sql(\"select uid, labname,first_commit_ts, first_view_ts from datamart where first_view_ts is not null;\", con=connect, parse_dates=['first_commit_ts', 'first_view_ts'])"
   ]
  },
  {
   "cell_type": "code",
   "execution_count": 8,
   "id": "laden-courtesy",
   "metadata": {},
   "outputs": [],
   "source": [
    "control = pd.io.sql.read_sql(\"select uid, labname,first_commit_ts, first_view_ts from datamart where first_view_ts is null;\", con=connect,\n",
    "                   parse_dates=['first_commit_ts', 'first_view_ts']).fillna(test.first_view_ts.mean())"
   ]
  },
  {
   "cell_type": "code",
   "execution_count": 10,
   "id": "unsigned-rouge",
   "metadata": {},
   "outputs": [],
   "source": [
    "test.to_sql('test', connect)\n",
    "control.to_sql('control', connect)"
   ]
  },
  {
   "cell_type": "markdown",
   "id": "responsible-ukraine",
   "metadata": {},
   "source": [
    "\n",
    "## close connect"
   ]
  },
  {
   "cell_type": "code",
   "execution_count": null,
   "id": "suited-silence",
   "metadata": {},
   "outputs": [],
   "source": [
    "connect.close()"
   ]
  },
  {
   "cell_type": "code",
   "execution_count": null,
   "id": "derived-designation",
   "metadata": {},
   "outputs": [],
   "source": []
  }
 ],
 "metadata": {
  "kernelspec": {
   "display_name": "Python 3",
   "language": "python",
   "name": "python3"
  },
  "language_info": {
   "codemirror_mode": {
    "name": "ipython",
    "version": 3
   },
   "file_extension": ".py",
   "mimetype": "text/x-python",
   "name": "python",
   "nbconvert_exporter": "python",
   "pygments_lexer": "ipython3",
   "version": "3.8.0"
  },
  "toc": {
   "base_numbering": 1,
   "nav_menu": {},
   "number_sections": true,
   "sideBar": true,
   "skip_h1_title": false,
   "title_cell": "Table of Contents",
   "title_sidebar": "Contents",
   "toc_cell": false,
   "toc_position": {},
   "toc_section_display": true,
   "toc_window_display": false
  }
 },
 "nbformat": 4,
 "nbformat_minor": 5
}
