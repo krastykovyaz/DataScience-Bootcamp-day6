{
 "cells": [
  {
   "cell_type": "markdown",
   "id": "literary-headset",
   "metadata": {},
   "source": [
    "## connect"
   ]
  },
  {
   "cell_type": "code",
   "execution_count": 1,
   "id": "completed-baker",
   "metadata": {},
   "outputs": [
    {
     "name": "stderr",
     "output_type": "stream",
     "text": [
      "/Users/a19028558/Desktop/transfer_accounts/akovyaz/learning_myself/env_school/lib/python3.8/site-packages/pandas/compat/__init__.py:97: UserWarning: Could not import the lzma module. Your installed Python is incomplete. Attempting to use lzma compression will result in a RuntimeError.\n",
      "  warnings.warn(msg)\n"
     ]
    }
   ],
   "source": [
    "import pandas as pd\n",
    "import sqlite3"
   ]
  },
  {
   "cell_type": "code",
   "execution_count": 2,
   "id": "choice-university",
   "metadata": {},
   "outputs": [],
   "source": [
    "connect = sqlite3.connect('../data/checking-logs.sqlite')"
   ]
  },
  {
   "cell_type": "markdown",
   "id": "perceived-extent",
   "metadata": {},
   "source": [
    "## schema"
   ]
  },
  {
   "cell_type": "code",
   "execution_count": 3,
   "id": "developed-guide",
   "metadata": {},
   "outputs": [
    {
     "data": {
      "text/html": [
       "<div>\n",
       "<style scoped>\n",
       "    .dataframe tbody tr th:only-of-type {\n",
       "        vertical-align: middle;\n",
       "    }\n",
       "\n",
       "    .dataframe tbody tr th {\n",
       "        vertical-align: top;\n",
       "    }\n",
       "\n",
       "    .dataframe thead th {\n",
       "        text-align: right;\n",
       "    }\n",
       "</style>\n",
       "<table border=\"1\" class=\"dataframe\">\n",
       "  <thead>\n",
       "    <tr style=\"text-align: right;\">\n",
       "      <th></th>\n",
       "      <th>cid</th>\n",
       "      <th>name</th>\n",
       "      <th>type</th>\n",
       "      <th>notnull</th>\n",
       "      <th>dflt_value</th>\n",
       "      <th>pk</th>\n",
       "    </tr>\n",
       "  </thead>\n",
       "  <tbody>\n",
       "    <tr>\n",
       "      <th>0</th>\n",
       "      <td>0</td>\n",
       "      <td>index</td>\n",
       "      <td>INTEGER</td>\n",
       "      <td>0</td>\n",
       "      <td>None</td>\n",
       "      <td>0</td>\n",
       "    </tr>\n",
       "    <tr>\n",
       "      <th>1</th>\n",
       "      <td>1</td>\n",
       "      <td>uid</td>\n",
       "      <td>TEXT</td>\n",
       "      <td>0</td>\n",
       "      <td>None</td>\n",
       "      <td>0</td>\n",
       "    </tr>\n",
       "    <tr>\n",
       "      <th>2</th>\n",
       "      <td>2</td>\n",
       "      <td>labname</td>\n",
       "      <td>TEXT</td>\n",
       "      <td>0</td>\n",
       "      <td>None</td>\n",
       "      <td>0</td>\n",
       "    </tr>\n",
       "    <tr>\n",
       "      <th>3</th>\n",
       "      <td>3</td>\n",
       "      <td>first_commit_ts</td>\n",
       "      <td>TIMESTAMP</td>\n",
       "      <td>0</td>\n",
       "      <td>None</td>\n",
       "      <td>0</td>\n",
       "    </tr>\n",
       "    <tr>\n",
       "      <th>4</th>\n",
       "      <td>4</td>\n",
       "      <td>first_view_ts</td>\n",
       "      <td>TIMESTAMP</td>\n",
       "      <td>0</td>\n",
       "      <td>None</td>\n",
       "      <td>0</td>\n",
       "    </tr>\n",
       "  </tbody>\n",
       "</table>\n",
       "</div>"
      ],
      "text/plain": [
       "   cid             name       type  notnull dflt_value  pk\n",
       "0    0            index    INTEGER        0       None   0\n",
       "1    1              uid       TEXT        0       None   0\n",
       "2    2          labname       TEXT        0       None   0\n",
       "3    3  first_commit_ts  TIMESTAMP        0       None   0\n",
       "4    4    first_view_ts  TIMESTAMP        0       None   0"
      ]
     },
     "execution_count": 3,
     "metadata": {},
     "output_type": "execute_result"
    }
   ],
   "source": [
    "pd.io.sql.read_sql(\"PRAGMA table_info(test);\", con=connect)"
   ]
  },
  {
   "cell_type": "markdown",
   "id": "beneficial-finish",
   "metadata": {},
   "source": [
    "## first 10"
   ]
  },
  {
   "cell_type": "code",
   "execution_count": 4,
   "id": "biological-mortality",
   "metadata": {},
   "outputs": [
    {
     "data": {
      "text/html": [
       "<div>\n",
       "<style scoped>\n",
       "    .dataframe tbody tr th:only-of-type {\n",
       "        vertical-align: middle;\n",
       "    }\n",
       "\n",
       "    .dataframe tbody tr th {\n",
       "        vertical-align: top;\n",
       "    }\n",
       "\n",
       "    .dataframe thead th {\n",
       "        text-align: right;\n",
       "    }\n",
       "</style>\n",
       "<table border=\"1\" class=\"dataframe\">\n",
       "  <thead>\n",
       "    <tr style=\"text-align: right;\">\n",
       "      <th></th>\n",
       "      <th>index</th>\n",
       "      <th>uid</th>\n",
       "      <th>labname</th>\n",
       "      <th>first_commit_ts</th>\n",
       "      <th>first_view_ts</th>\n",
       "    </tr>\n",
       "  </thead>\n",
       "  <tbody>\n",
       "    <tr>\n",
       "      <th>0</th>\n",
       "      <td>0</td>\n",
       "      <td>user_17</td>\n",
       "      <td>project1</td>\n",
       "      <td>2020-04-18 07:56:45</td>\n",
       "      <td>2020-04-18 10:56:55</td>\n",
       "    </tr>\n",
       "    <tr>\n",
       "      <th>1</th>\n",
       "      <td>1</td>\n",
       "      <td>user_30</td>\n",
       "      <td>laba04</td>\n",
       "      <td>2020-04-18 13:36:53</td>\n",
       "      <td>2020-04-17 22:46:26</td>\n",
       "    </tr>\n",
       "    <tr>\n",
       "      <th>2</th>\n",
       "      <td>2</td>\n",
       "      <td>user_30</td>\n",
       "      <td>laba04s</td>\n",
       "      <td>2020-04-18 14:51:37</td>\n",
       "      <td>2020-04-17 22:46:26</td>\n",
       "    </tr>\n",
       "    <tr>\n",
       "      <th>3</th>\n",
       "      <td>3</td>\n",
       "      <td>user_14</td>\n",
       "      <td>laba04</td>\n",
       "      <td>2020-04-18 15:14:00</td>\n",
       "      <td>2020-04-18 10:53:52</td>\n",
       "    </tr>\n",
       "    <tr>\n",
       "      <th>4</th>\n",
       "      <td>4</td>\n",
       "      <td>user_14</td>\n",
       "      <td>laba04s</td>\n",
       "      <td>2020-04-18 22:30:30</td>\n",
       "      <td>2020-04-18 10:53:52</td>\n",
       "    </tr>\n",
       "    <tr>\n",
       "      <th>5</th>\n",
       "      <td>5</td>\n",
       "      <td>user_19</td>\n",
       "      <td>laba04</td>\n",
       "      <td>2020-04-20 19:05:01</td>\n",
       "      <td>2020-04-21 20:30:38</td>\n",
       "    </tr>\n",
       "    <tr>\n",
       "      <th>6</th>\n",
       "      <td>6</td>\n",
       "      <td>user_25</td>\n",
       "      <td>laba04</td>\n",
       "      <td>2020-04-20 19:16:50</td>\n",
       "      <td>2020-05-09 23:54:54</td>\n",
       "    </tr>\n",
       "    <tr>\n",
       "      <th>7</th>\n",
       "      <td>7</td>\n",
       "      <td>user_21</td>\n",
       "      <td>laba04</td>\n",
       "      <td>2020-04-21 17:48:00</td>\n",
       "      <td>2020-04-22 22:40:36</td>\n",
       "    </tr>\n",
       "    <tr>\n",
       "      <th>8</th>\n",
       "      <td>8</td>\n",
       "      <td>user_30</td>\n",
       "      <td>project1</td>\n",
       "      <td>2020-04-22 12:36:24</td>\n",
       "      <td>2020-04-17 22:46:26</td>\n",
       "    </tr>\n",
       "    <tr>\n",
       "      <th>9</th>\n",
       "      <td>9</td>\n",
       "      <td>user_21</td>\n",
       "      <td>laba04s</td>\n",
       "      <td>2020-04-22 20:09:21</td>\n",
       "      <td>2020-04-22 22:40:36</td>\n",
       "    </tr>\n",
       "  </tbody>\n",
       "</table>\n",
       "</div>"
      ],
      "text/plain": [
       "   index      uid   labname      first_commit_ts        first_view_ts\n",
       "0      0  user_17  project1  2020-04-18 07:56:45  2020-04-18 10:56:55\n",
       "1      1  user_30    laba04  2020-04-18 13:36:53  2020-04-17 22:46:26\n",
       "2      2  user_30   laba04s  2020-04-18 14:51:37  2020-04-17 22:46:26\n",
       "3      3  user_14    laba04  2020-04-18 15:14:00  2020-04-18 10:53:52\n",
       "4      4  user_14   laba04s  2020-04-18 22:30:30  2020-04-18 10:53:52\n",
       "5      5  user_19    laba04  2020-04-20 19:05:01  2020-04-21 20:30:38\n",
       "6      6  user_25    laba04  2020-04-20 19:16:50  2020-05-09 23:54:54\n",
       "7      7  user_21    laba04  2020-04-21 17:48:00  2020-04-22 22:40:36\n",
       "8      8  user_30  project1  2020-04-22 12:36:24  2020-04-17 22:46:26\n",
       "9      9  user_21   laba04s  2020-04-22 20:09:21  2020-04-22 22:40:36"
      ]
     },
     "execution_count": 4,
     "metadata": {},
     "output_type": "execute_result"
    }
   ],
   "source": [
    "pd.io.sql.read_sql(\"select * from test limit 10;\", con=connect)"
   ]
  },
  {
   "cell_type": "markdown",
   "id": "falling-voluntary",
   "metadata": {},
   "source": [
    "## Min"
   ]
  },
  {
   "cell_type": "code",
   "execution_count": 5,
   "id": "conceptual-drawing",
   "metadata": {},
   "outputs": [
    {
     "data": {
      "text/html": [
       "<div>\n",
       "<style scoped>\n",
       "    .dataframe tbody tr th:only-of-type {\n",
       "        vertical-align: middle;\n",
       "    }\n",
       "\n",
       "    .dataframe tbody tr th {\n",
       "        vertical-align: top;\n",
       "    }\n",
       "\n",
       "    .dataframe thead th {\n",
       "        text-align: right;\n",
       "    }\n",
       "</style>\n",
       "<table border=\"1\" class=\"dataframe\">\n",
       "  <thead>\n",
       "    <tr style=\"text-align: right;\">\n",
       "      <th></th>\n",
       "      <th>uid</th>\n",
       "      <th>delta</th>\n",
       "    </tr>\n",
       "  </thead>\n",
       "  <tbody>\n",
       "    <tr>\n",
       "      <th>0</th>\n",
       "      <td>user_25</td>\n",
       "      <td>2</td>\n",
       "    </tr>\n",
       "  </tbody>\n",
       "</table>\n",
       "</div>"
      ],
      "text/plain": [
       "       uid  delta\n",
       "0  user_25      2"
      ]
     },
     "execution_count": 5,
     "metadata": {},
     "output_type": "execute_result"
    }
   ],
   "source": [
    "df_min = pd.io.sql.read_sql(\n",
    "    \"\"\"select uid, cast(min(deadlines - cast(strftime('%s', first_commit_ts) as int))/3600 as int) as delta\n",
    "    from test join deadlines on labs = labname where labs != 'project1';\"\"\",\n",
    "    con=connect)\n",
    "df_min"
   ]
  },
  {
   "cell_type": "markdown",
   "id": "contrary-terrorism",
   "metadata": {},
   "source": [
    "## Max"
   ]
  },
  {
   "cell_type": "code",
   "execution_count": 6,
   "id": "considerable-workplace",
   "metadata": {},
   "outputs": [
    {
     "data": {
      "text/html": [
       "<div>\n",
       "<style scoped>\n",
       "    .dataframe tbody tr th:only-of-type {\n",
       "        vertical-align: middle;\n",
       "    }\n",
       "\n",
       "    .dataframe tbody tr th {\n",
       "        vertical-align: top;\n",
       "    }\n",
       "\n",
       "    .dataframe thead th {\n",
       "        text-align: right;\n",
       "    }\n",
       "</style>\n",
       "<table border=\"1\" class=\"dataframe\">\n",
       "  <thead>\n",
       "    <tr style=\"text-align: right;\">\n",
       "      <th></th>\n",
       "      <th>uid</th>\n",
       "      <th>delta</th>\n",
       "    </tr>\n",
       "  </thead>\n",
       "  <tbody>\n",
       "    <tr>\n",
       "      <th>0</th>\n",
       "      <td>user_30</td>\n",
       "      <td>202</td>\n",
       "    </tr>\n",
       "  </tbody>\n",
       "</table>\n",
       "</div>"
      ],
      "text/plain": [
       "       uid  delta\n",
       "0  user_30    202"
      ]
     },
     "execution_count": 6,
     "metadata": {},
     "output_type": "execute_result"
    }
   ],
   "source": [
    "df_max = pd.io.sql.read_sql(\n",
    "    \"\"\"select uid, cast(max(deadlines - cast(strftime('%s', first_commit_ts) as int))/3600 as int) as delta\n",
    "    from test join deadlines on labs = labname where labs != 'project1';\"\"\",\n",
    "    con=connect)\n",
    "df_max"
   ]
  },
  {
   "cell_type": "markdown",
   "id": "sufficient-poverty",
   "metadata": {},
   "source": [
    "## Avg"
   ]
  },
  {
   "cell_type": "code",
   "execution_count": 7,
   "id": "dominican-adolescent",
   "metadata": {},
   "outputs": [
    {
     "data": {
      "text/html": [
       "<div>\n",
       "<style scoped>\n",
       "    .dataframe tbody tr th:only-of-type {\n",
       "        vertical-align: middle;\n",
       "    }\n",
       "\n",
       "    .dataframe tbody tr th {\n",
       "        vertical-align: top;\n",
       "    }\n",
       "\n",
       "    .dataframe thead th {\n",
       "        text-align: right;\n",
       "    }\n",
       "</style>\n",
       "<table border=\"1\" class=\"dataframe\">\n",
       "  <thead>\n",
       "    <tr style=\"text-align: right;\">\n",
       "      <th></th>\n",
       "      <th>delta</th>\n",
       "    </tr>\n",
       "  </thead>\n",
       "  <tbody>\n",
       "    <tr>\n",
       "      <th>0</th>\n",
       "      <td>89</td>\n",
       "    </tr>\n",
       "  </tbody>\n",
       "</table>\n",
       "</div>"
      ],
      "text/plain": [
       "   delta\n",
       "0     89"
      ]
     },
     "execution_count": 7,
     "metadata": {},
     "output_type": "execute_result"
    }
   ],
   "source": [
    "df_avg = pd.io.sql.read_sql(\n",
    "    \"\"\"select cast(avg(deadlines - cast(strftime('%s', first_commit_ts) as int))/3600 as int) as delta\n",
    "    from test join deadlines on labs = labname where labs != 'project1';\"\"\",\n",
    "    con=connect)\n",
    "df_avg"
   ]
  },
  {
   "cell_type": "markdown",
   "id": "valid-imagination",
   "metadata": {},
   "source": [
    "## Corr"
   ]
  },
  {
   "cell_type": "code",
   "execution_count": 8,
   "id": "curious-vitamin",
   "metadata": {},
   "outputs": [],
   "source": [
    "views_diff = pd.io.sql.read_sql(\n",
    "    \"\"\"select test.uid, cast(avg(deadlines - cast(strftime('%s', first_commit_ts) as int))/3600 as int) as avg_diff,\n",
    "    count as pageviews from test join deadlines on labs = labname\n",
    "    left join (select uid, count(uid) as count from pageviews group by uid) t on t.uid = test.uid\n",
    "    where labs != 'project1' group by test.uid; \"\"\",\n",
    "    con=connect)"
   ]
  },
  {
   "cell_type": "code",
   "execution_count": 9,
   "id": "alpha-antarctica",
   "metadata": {},
   "outputs": [
    {
     "data": {
      "text/html": [
       "<div>\n",
       "<style scoped>\n",
       "    .dataframe tbody tr th:only-of-type {\n",
       "        vertical-align: middle;\n",
       "    }\n",
       "\n",
       "    .dataframe tbody tr th {\n",
       "        vertical-align: top;\n",
       "    }\n",
       "\n",
       "    .dataframe thead th {\n",
       "        text-align: right;\n",
       "    }\n",
       "</style>\n",
       "<table border=\"1\" class=\"dataframe\">\n",
       "  <thead>\n",
       "    <tr style=\"text-align: right;\">\n",
       "      <th></th>\n",
       "      <th>avg_diff</th>\n",
       "      <th>pageviews</th>\n",
       "    </tr>\n",
       "  </thead>\n",
       "  <tbody>\n",
       "    <tr>\n",
       "      <th>avg_diff</th>\n",
       "      <td>1.000000</td>\n",
       "      <td>0.276022</td>\n",
       "    </tr>\n",
       "    <tr>\n",
       "      <th>pageviews</th>\n",
       "      <td>0.276022</td>\n",
       "      <td>1.000000</td>\n",
       "    </tr>\n",
       "  </tbody>\n",
       "</table>\n",
       "</div>"
      ],
      "text/plain": [
       "           avg_diff  pageviews\n",
       "avg_diff   1.000000   0.276022\n",
       "pageviews  0.276022   1.000000"
      ]
     },
     "execution_count": 9,
     "metadata": {},
     "output_type": "execute_result"
    }
   ],
   "source": [
    "views_diff.corr()"
   ]
  },
  {
   "cell_type": "markdown",
   "id": "taken-tender",
   "metadata": {},
   "source": [
    "## Close connect"
   ]
  },
  {
   "cell_type": "code",
   "execution_count": 10,
   "id": "competitive-scale",
   "metadata": {},
   "outputs": [],
   "source": [
    "connect.close()"
   ]
  },
  {
   "cell_type": "code",
   "execution_count": null,
   "id": "reported-occasions",
   "metadata": {},
   "outputs": [],
   "source": []
  }
 ],
 "metadata": {
  "kernelspec": {
   "display_name": "Python 3",
   "language": "python",
   "name": "python3"
  },
  "language_info": {
   "codemirror_mode": {
    "name": "ipython",
    "version": 3
   },
   "file_extension": ".py",
   "mimetype": "text/x-python",
   "name": "python",
   "nbconvert_exporter": "python",
   "pygments_lexer": "ipython3",
   "version": "3.8.0"
  },
  "toc": {
   "base_numbering": 1,
   "nav_menu": {},
   "number_sections": true,
   "sideBar": true,
   "skip_h1_title": false,
   "title_cell": "Table of Contents",
   "title_sidebar": "Contents",
   "toc_cell": false,
   "toc_position": {},
   "toc_section_display": true,
   "toc_window_display": false
  }
 },
 "nbformat": 4,
 "nbformat_minor": 5
}
