{
 "cells": [
  {
   "cell_type": "markdown",
   "id": "varied-lindsay",
   "metadata": {},
   "source": [
    "## connect"
   ]
  },
  {
   "cell_type": "code",
   "execution_count": 1,
   "id": "authorized-referral",
   "metadata": {},
   "outputs": [
    {
     "name": "stderr",
     "output_type": "stream",
     "text": [
      "/Users/a19028558/Desktop/transfer_accounts/akovyaz/learning_myself/env_school/lib/python3.8/site-packages/pandas/compat/__init__.py:97: UserWarning: Could not import the lzma module. Your installed Python is incomplete. Attempting to use lzma compression will result in a RuntimeError.\n",
      "  warnings.warn(msg)\n"
     ]
    }
   ],
   "source": [
    "import pandas as pd\n",
    "import sqlite3"
   ]
  },
  {
   "cell_type": "code",
   "execution_count": 2,
   "id": "conservative-sixth",
   "metadata": {},
   "outputs": [],
   "source": [
    "connect = sqlite3.connect('../data/checking-logs.sqlite')"
   ]
  },
  {
   "cell_type": "markdown",
   "id": "approved-atlantic",
   "metadata": {},
   "source": [
    "## A/B"
   ]
  },
  {
   "cell_type": "code",
   "execution_count": 3,
   "id": "given-register",
   "metadata": {},
   "outputs": [
    {
     "data": {
      "text/html": [
       "<div>\n",
       "<style scoped>\n",
       "    .dataframe tbody tr th:only-of-type {\n",
       "        vertical-align: middle;\n",
       "    }\n",
       "\n",
       "    .dataframe tbody tr th {\n",
       "        vertical-align: top;\n",
       "    }\n",
       "\n",
       "    .dataframe thead th {\n",
       "        text-align: right;\n",
       "    }\n",
       "</style>\n",
       "<table border=\"1\" class=\"dataframe\">\n",
       "  <thead>\n",
       "    <tr style=\"text-align: right;\">\n",
       "      <th></th>\n",
       "      <th>mode</th>\n",
       "      <th>time</th>\n",
       "    </tr>\n",
       "  </thead>\n",
       "  <tbody>\n",
       "    <tr>\n",
       "      <th>0</th>\n",
       "      <td>after</td>\n",
       "      <td>110.513122</td>\n",
       "    </tr>\n",
       "    <tr>\n",
       "      <th>1</th>\n",
       "      <td>before</td>\n",
       "      <td>62.048824</td>\n",
       "    </tr>\n",
       "  </tbody>\n",
       "</table>\n",
       "</div>"
      ],
      "text/plain": [
       "     mode        time\n",
       "0   after  110.513122\n",
       "1  before   62.048824"
      ]
     },
     "execution_count": 3,
     "metadata": {},
     "output_type": "execute_result"
    }
   ],
   "source": [
    "a_test = pd.io.sql.read_sql(\n",
    "    \"\"\"select 'before' as mode, avg(deadlines - cast(strftime('%s', first_commit_ts) as int))/3600 as time from test inner join\n",
    "     (select uid from test where first_commit_ts > first_view_ts) as test_before on test.uid = test_before.uid inner join deadlines on test.labname = deadlines.labs\n",
    "     where test.labname != 'project1' and test.first_commit_ts < test.first_view_ts\n",
    "     union\n",
    "     select 'after' as mode, avg(deadlines - cast(strftime('%s', first_commit_ts) as int))/3600 as time from test inner join\n",
    "     (select uid from test where first_commit_ts < first_view_ts) as test_before on test.uid = test_before.uid inner join deadlines on test.labname = deadlines.labs\n",
    "     where test.labname != 'project1' and test.first_commit_ts > test.first_view_ts;\"\"\",\n",
    "    con=connect)\n",
    "a_test"
   ]
  },
  {
   "cell_type": "code",
   "execution_count": 4,
   "id": "equivalent-possible",
   "metadata": {},
   "outputs": [
    {
     "data": {
      "text/html": [
       "<div>\n",
       "<style scoped>\n",
       "    .dataframe tbody tr th:only-of-type {\n",
       "        vertical-align: middle;\n",
       "    }\n",
       "\n",
       "    .dataframe tbody tr th {\n",
       "        vertical-align: top;\n",
       "    }\n",
       "\n",
       "    .dataframe thead th {\n",
       "        text-align: right;\n",
       "    }\n",
       "</style>\n",
       "<table border=\"1\" class=\"dataframe\">\n",
       "  <thead>\n",
       "    <tr style=\"text-align: right;\">\n",
       "      <th></th>\n",
       "      <th>mode</th>\n",
       "      <th>time</th>\n",
       "    </tr>\n",
       "  </thead>\n",
       "  <tbody>\n",
       "    <tr>\n",
       "      <th>0</th>\n",
       "      <td>after</td>\n",
       "      <td>124.595972</td>\n",
       "    </tr>\n",
       "    <tr>\n",
       "      <th>1</th>\n",
       "      <td>before</td>\n",
       "      <td>NaN</td>\n",
       "    </tr>\n",
       "  </tbody>\n",
       "</table>\n",
       "</div>"
      ],
      "text/plain": [
       "     mode        time\n",
       "0   after  124.595972\n",
       "1  before         NaN"
      ]
     },
     "execution_count": 4,
     "metadata": {},
     "output_type": "execute_result"
    }
   ],
   "source": [
    "b_test = pd.io.sql.read_sql(\n",
    "    \"\"\"select 'before' as mode, avg(deadlines - cast(strftime('%s', first_commit_ts) as int))/3600 as time from control inner join\n",
    "     (select uid from test where first_commit_ts > first_view_ts) as test_before on control.uid = test_before.uid inner join deadlines on control.labname = deadlines.labs\n",
    "     where control.labname != 'project1' and control.first_commit_ts < control.first_view_ts\n",
    "     union\n",
    "     select 'after' as mode, avg(deadlines - cast(strftime('%s', first_commit_ts) as int))/3600 as time from control inner join\n",
    "     (select uid from control where first_commit_ts < first_view_ts) as test_before on control.uid = test_before.uid inner join deadlines on control.labname = deadlines.labs\n",
    "     where control.labname != 'project1' and control.first_commit_ts > control.first_view_ts;\"\"\",\n",
    "    con=connect)\n",
    "b_test"
   ]
  },
  {
   "cell_type": "markdown",
   "id": "oriental-theology",
   "metadata": {},
   "source": [
    "## close connect"
   ]
  },
  {
   "cell_type": "code",
   "execution_count": 5,
   "id": "thorough-defensive",
   "metadata": {},
   "outputs": [],
   "source": [
    "connect.close()"
   ]
  },
  {
   "cell_type": "markdown",
   "id": "expected-gravity",
   "metadata": {},
   "source": [
    "## Answer"
   ]
  },
  {
   "cell_type": "markdown",
   "id": "contrary-butler",
   "metadata": {},
   "source": [
    "_Yes_"
   ]
  },
  {
   "cell_type": "code",
   "execution_count": null,
   "id": "manual-rocket",
   "metadata": {},
   "outputs": [],
   "source": []
  }
 ],
 "metadata": {
  "kernelspec": {
   "display_name": "Python 3",
   "language": "python",
   "name": "python3"
  },
  "language_info": {
   "codemirror_mode": {
    "name": "ipython",
    "version": 3
   },
   "file_extension": ".py",
   "mimetype": "text/x-python",
   "name": "python",
   "nbconvert_exporter": "python",
   "pygments_lexer": "ipython3",
   "version": "3.8.0"
  },
  "toc": {
   "base_numbering": 1,
   "nav_menu": {},
   "number_sections": true,
   "sideBar": true,
   "skip_h1_title": false,
   "title_cell": "Table of Contents",
   "title_sidebar": "Contents",
   "toc_cell": false,
   "toc_position": {},
   "toc_section_display": true,
   "toc_window_display": false
  }
 },
 "nbformat": 4,
 "nbformat_minor": 5
}
